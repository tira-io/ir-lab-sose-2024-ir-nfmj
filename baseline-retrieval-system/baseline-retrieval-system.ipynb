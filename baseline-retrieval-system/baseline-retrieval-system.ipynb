{
 "cells": [
  {
   "cell_type": "markdown",
   "metadata": {},
   "source": [
    "# IR Lab SoSe 2024: Baseline Retrieval System\n",
    "\n",
    "This jupyter notebook serves as baseline retrieval system that you can try to improve upon.\n",
    "We will use the a corpus of scientific papers (title + abstracts) from the fields of information retrieval and natural language processing (the [IR Anthology](https://ir.webis.de/anthology/) and the [ACL Anthology](https://aclanthology.org/)). This serves Jupyter notebook only serves as retrieval system, i.e., it gets a set of information needs (topics) and a corpus as input and produces a run file as output. Please do evaluations in a new dedicated notebook."
   ]
  },
  {
   "cell_type": "markdown",
   "metadata": {},
   "source": [
    "### Step 1: Import Libraries\n",
    "\n",
    "We will use [tira](https://www.tira.io/), an information retrieval shared task platform, for loading the (pre-built) retrieval index and [ir_dataset](https://ir-datasets.com/) to subsequently build a retrieval system with [PyTerrier](https://github.com/terrier-org/pyterrier), an open-source search engine.\n",
    "\n",
    "Building your own index can be already one way that you can try to improve upon this baseline (if you want to focus on creating good document representations). Other ways could include reformulating queries or tuning parameters or building better retrieval pipelines."
   ]
  },
  {
   "cell_type": "code",
   "execution_count": 2,
   "metadata": {},
   "outputs": [
    {
     "name": "stdout",
     "output_type": "stream",
     "text": [
      "Requirement already satisfied: tira in c:\\users\\michael\\appdata\\local\\programs\\python\\python311\\lib\\site-packages (0.0.129)\n",
      "Requirement already satisfied: ir-datasets in c:\\users\\michael\\appdata\\local\\programs\\python\\python311\\lib\\site-packages (0.5.7)\n",
      "Requirement already satisfied: python-terrier in c:\\users\\michael\\appdata\\local\\programs\\python\\python311\\lib\\site-packages (0.10.1)\n",
      "Requirement already satisfied: requests==2.*,>=2.26 in c:\\users\\michael\\appdata\\local\\programs\\python\\python311\\lib\\site-packages (from tira) (2.31.0)\n",
      "Requirement already satisfied: docker==6.*,>=6.0.0 in c:\\users\\michael\\appdata\\local\\programs\\python\\python311\\lib\\site-packages (from tira) (6.1.3)\n",
      "Requirement already satisfied: pandas in c:\\users\\michael\\appdata\\local\\programs\\python\\python311\\lib\\site-packages (from tira) (2.0.2)\n",
      "Requirement already satisfied: tqdm in c:\\users\\michael\\appdata\\local\\programs\\python\\python311\\lib\\site-packages (from tira) (4.66.4)\n",
      "Requirement already satisfied: packaging>=14.0 in c:\\users\\michael\\appdata\\local\\programs\\python\\python311\\lib\\site-packages (from docker==6.*,>=6.0.0->tira) (23.2)\n",
      "Requirement already satisfied: urllib3>=1.26.0 in c:\\users\\michael\\appdata\\local\\programs\\python\\python311\\lib\\site-packages (from docker==6.*,>=6.0.0->tira) (2.0.3)\n",
      "Requirement already satisfied: websocket-client>=0.32.0 in c:\\users\\michael\\appdata\\local\\programs\\python\\python311\\lib\\site-packages (from docker==6.*,>=6.0.0->tira) (1.8.0)\n",
      "Requirement already satisfied: pywin32>=304 in c:\\users\\michael\\appdata\\roaming\\python\\python311\\site-packages (from docker==6.*,>=6.0.0->tira) (306)\n",
      "Requirement already satisfied: charset-normalizer<4,>=2 in c:\\users\\michael\\appdata\\local\\programs\\python\\python311\\lib\\site-packages (from requests==2.*,>=2.26->tira) (3.1.0)\n",
      "Requirement already satisfied: idna<4,>=2.5 in c:\\users\\michael\\appdata\\local\\programs\\python\\python311\\lib\\site-packages (from requests==2.*,>=2.26->tira) (3.4)\n",
      "Requirement already satisfied: certifi>=2017.4.17 in c:\\users\\michael\\appdata\\local\\programs\\python\\python311\\lib\\site-packages (from requests==2.*,>=2.26->tira) (2023.5.7)\n",
      "Requirement already satisfied: beautifulsoup4>=4.4.1 in c:\\users\\michael\\appdata\\local\\programs\\python\\python311\\lib\\site-packages (from ir-datasets) (4.12.3)\n",
      "Requirement already satisfied: inscriptis>=2.2.0 in c:\\users\\michael\\appdata\\local\\programs\\python\\python311\\lib\\site-packages (from ir-datasets) (2.5.0)\n",
      "Requirement already satisfied: lxml>=4.5.2 in c:\\users\\michael\\appdata\\local\\programs\\python\\python311\\lib\\site-packages (from ir-datasets) (5.2.2)\n",
      "Requirement already satisfied: numpy>=1.18.1 in c:\\users\\michael\\appdata\\local\\programs\\python\\python311\\lib\\site-packages (from ir-datasets) (1.24.2)\n",
      "Requirement already satisfied: pyyaml>=5.3.1 in c:\\users\\michael\\appdata\\local\\programs\\python\\python311\\lib\\site-packages (from ir-datasets) (6.0.1)\n",
      "Requirement already satisfied: trec-car-tools>=2.5.4 in c:\\users\\michael\\appdata\\local\\programs\\python\\python311\\lib\\site-packages (from ir-datasets) (2.6)\n",
      "Requirement already satisfied: lz4>=3.1.10 in c:\\users\\michael\\appdata\\local\\programs\\python\\python311\\lib\\site-packages (from ir-datasets) (4.3.3)\n",
      "Requirement already satisfied: warc3-wet>=0.2.3 in c:\\users\\michael\\appdata\\local\\programs\\python\\python311\\lib\\site-packages (from ir-datasets) (0.2.3)\n",
      "Requirement already satisfied: warc3-wet-clueweb09>=0.2.5 in c:\\users\\michael\\appdata\\local\\programs\\python\\python311\\lib\\site-packages (from ir-datasets) (0.2.5)\n",
      "Requirement already satisfied: zlib-state>=0.1.3 in c:\\users\\michael\\appdata\\local\\programs\\python\\python311\\lib\\site-packages (from ir-datasets) (0.1.6)\n",
      "Requirement already satisfied: ijson>=3.1.3 in c:\\users\\michael\\appdata\\local\\programs\\python\\python311\\lib\\site-packages (from ir-datasets) (3.2.3)\n",
      "Requirement already satisfied: unlzw3>=0.2.1 in c:\\users\\michael\\appdata\\local\\programs\\python\\python311\\lib\\site-packages (from ir-datasets) (0.2.2)\n",
      "Requirement already satisfied: wget in c:\\users\\michael\\appdata\\local\\programs\\python\\python311\\lib\\site-packages (from python-terrier) (3.2)\n",
      "Requirement already satisfied: pyjnius>=1.4.2 in c:\\users\\michael\\appdata\\local\\programs\\python\\python311\\lib\\site-packages (from python-terrier) (1.6.1)\n",
      "Requirement already satisfied: matchpy in c:\\users\\michael\\appdata\\local\\programs\\python\\python311\\lib\\site-packages (from python-terrier) (0.5.5)\n",
      "Requirement already satisfied: deprecated in c:\\users\\michael\\appdata\\local\\programs\\python\\python311\\lib\\site-packages (from python-terrier) (1.2.14)\n",
      "Requirement already satisfied: chest in c:\\users\\michael\\appdata\\local\\programs\\python\\python311\\lib\\site-packages (from python-terrier) (0.2.3)\n",
      "Requirement already satisfied: scipy in c:\\users\\michael\\appdata\\local\\programs\\python\\python311\\lib\\site-packages (from python-terrier) (1.12.0)\n",
      "Requirement already satisfied: joblib in c:\\users\\michael\\appdata\\local\\programs\\python\\python311\\lib\\site-packages (from python-terrier) (1.4.2)\n",
      "Requirement already satisfied: nptyping==1.4.4 in c:\\users\\michael\\appdata\\local\\programs\\python\\python311\\lib\\site-packages (from python-terrier) (1.4.4)\n",
      "Requirement already satisfied: more-itertools in c:\\users\\michael\\appdata\\local\\programs\\python\\python311\\lib\\site-packages (from python-terrier) (10.2.0)\n",
      "Requirement already satisfied: jinja2 in c:\\users\\michael\\appdata\\local\\programs\\python\\python311\\lib\\site-packages (from python-terrier) (3.1.2)\n",
      "Requirement already satisfied: statsmodels in c:\\users\\michael\\appdata\\local\\programs\\python\\python311\\lib\\site-packages (from python-terrier) (0.14.2)\n",
      "Requirement already satisfied: ir-measures>=0.3.1 in c:\\users\\michael\\appdata\\local\\programs\\python\\python311\\lib\\site-packages (from python-terrier) (0.3.3)\n",
      "Requirement already satisfied: dill in c:\\users\\michael\\appdata\\local\\programs\\python\\python311\\lib\\site-packages (from python-terrier) (0.3.8)\n",
      "Requirement already satisfied: pytrec-eval-terrier>=0.5.3 in c:\\users\\michael\\appdata\\local\\programs\\python\\python311\\lib\\site-packages (from python-terrier) (0.5.6)\n",
      "Requirement already satisfied: typish>=1.7.0 in c:\\users\\michael\\appdata\\local\\programs\\python\\python311\\lib\\site-packages (from nptyping==1.4.4->python-terrier) (1.9.3)\n",
      "Requirement already satisfied: soupsieve>1.2 in c:\\users\\michael\\appdata\\local\\programs\\python\\python311\\lib\\site-packages (from beautifulsoup4>=4.4.1->ir-datasets) (2.5)\n",
      "Requirement already satisfied: cwl-eval>=1.0.10 in c:\\users\\michael\\appdata\\local\\programs\\python\\python311\\lib\\site-packages (from ir-measures>=0.3.1->python-terrier) (1.0.12)\n",
      "Requirement already satisfied: colorama in c:\\users\\michael\\appdata\\local\\programs\\python\\python311\\lib\\site-packages (from tqdm->tira) (0.4.6)\n",
      "Requirement already satisfied: cbor>=1.0.0 in c:\\users\\michael\\appdata\\local\\programs\\python\\python311\\lib\\site-packages (from trec-car-tools>=2.5.4->ir-datasets) (1.0.0)\n",
      "Requirement already satisfied: heapdict in c:\\users\\michael\\appdata\\local\\programs\\python\\python311\\lib\\site-packages (from chest->python-terrier) (1.0.1)\n",
      "Requirement already satisfied: wrapt<2,>=1.10 in c:\\users\\michael\\appdata\\local\\programs\\python\\python311\\lib\\site-packages (from deprecated->python-terrier) (1.16.0)\n",
      "Requirement already satisfied: MarkupSafe>=2.0 in c:\\users\\michael\\appdata\\local\\programs\\python\\python311\\lib\\site-packages (from jinja2->python-terrier) (2.1.3)\n",
      "Requirement already satisfied: multiset<3.0,>=2.0 in c:\\users\\michael\\appdata\\local\\programs\\python\\python311\\lib\\site-packages (from matchpy->python-terrier) (2.1.1)\n",
      "Requirement already satisfied: python-dateutil>=2.8.2 in c:\\users\\michael\\appdata\\local\\programs\\python\\python311\\lib\\site-packages (from pandas->tira) (2.8.2)\n",
      "Requirement already satisfied: pytz>=2020.1 in c:\\users\\michael\\appdata\\local\\programs\\python\\python311\\lib\\site-packages (from pandas->tira) (2023.3)\n",
      "Requirement already satisfied: tzdata>=2022.1 in c:\\users\\michael\\appdata\\local\\programs\\python\\python311\\lib\\site-packages (from pandas->tira) (2023.3)\n",
      "Requirement already satisfied: patsy>=0.5.6 in c:\\users\\michael\\appdata\\local\\programs\\python\\python311\\lib\\site-packages (from statsmodels->python-terrier) (0.5.6)\n",
      "Requirement already satisfied: six in c:\\users\\michael\\appdata\\local\\programs\\python\\python311\\lib\\site-packages (from patsy>=0.5.6->statsmodels->python-terrier) (1.16.0)\n"
     ]
    },
    {
     "name": "stderr",
     "output_type": "stream",
     "text": [
      "\n",
      "[notice] A new release of pip is available: 23.3.2 -> 24.0\n",
      "[notice] To update, run: python.exe -m pip install --upgrade pip\n"
     ]
    },
    {
     "name": "stdout",
     "output_type": "stream",
     "text": [
      "Requirement already satisfied: spacy in c:\\users\\michael\\appdata\\local\\programs\\python\\python311\\lib\\site-packages (3.7.5)\n",
      "Requirement already satisfied: spacy-legacy<3.1.0,>=3.0.11 in c:\\users\\michael\\appdata\\local\\programs\\python\\python311\\lib\\site-packages (from spacy) (3.0.12)\n",
      "Requirement already satisfied: spacy-loggers<2.0.0,>=1.0.0 in c:\\users\\michael\\appdata\\local\\programs\\python\\python311\\lib\\site-packages (from spacy) (1.0.5)\n",
      "Requirement already satisfied: murmurhash<1.1.0,>=0.28.0 in c:\\users\\michael\\appdata\\local\\programs\\python\\python311\\lib\\site-packages (from spacy) (1.0.10)\n",
      "Requirement already satisfied: cymem<2.1.0,>=2.0.2 in c:\\users\\michael\\appdata\\local\\programs\\python\\python311\\lib\\site-packages (from spacy) (2.0.8)\n",
      "Requirement already satisfied: preshed<3.1.0,>=3.0.2 in c:\\users\\michael\\appdata\\local\\programs\\python\\python311\\lib\\site-packages (from spacy) (3.0.9)\n",
      "Requirement already satisfied: thinc<8.3.0,>=8.2.2 in c:\\users\\michael\\appdata\\local\\programs\\python\\python311\\lib\\site-packages (from spacy) (8.2.4)\n",
      "Requirement already satisfied: wasabi<1.2.0,>=0.9.1 in c:\\users\\michael\\appdata\\local\\programs\\python\\python311\\lib\\site-packages (from spacy) (1.1.3)\n",
      "Requirement already satisfied: srsly<3.0.0,>=2.4.3 in c:\\users\\michael\\appdata\\local\\programs\\python\\python311\\lib\\site-packages (from spacy) (2.4.8)\n",
      "Requirement already satisfied: catalogue<2.1.0,>=2.0.6 in c:\\users\\michael\\appdata\\local\\programs\\python\\python311\\lib\\site-packages (from spacy) (2.0.10)\n",
      "Requirement already satisfied: weasel<0.5.0,>=0.1.0 in c:\\users\\michael\\appdata\\local\\programs\\python\\python311\\lib\\site-packages (from spacy) (0.4.1)\n",
      "Requirement already satisfied: typer<1.0.0,>=0.3.0 in c:\\users\\michael\\appdata\\local\\programs\\python\\python311\\lib\\site-packages (from spacy) (0.12.3)\n",
      "Requirement already satisfied: tqdm<5.0.0,>=4.38.0 in c:\\users\\michael\\appdata\\local\\programs\\python\\python311\\lib\\site-packages (from spacy) (4.66.4)\n",
      "Requirement already satisfied: requests<3.0.0,>=2.13.0 in c:\\users\\michael\\appdata\\local\\programs\\python\\python311\\lib\\site-packages (from spacy) (2.31.0)\n",
      "Requirement already satisfied: pydantic!=1.8,!=1.8.1,<3.0.0,>=1.7.4 in c:\\users\\michael\\appdata\\local\\programs\\python\\python311\\lib\\site-packages (from spacy) (2.7.4)\n",
      "Requirement already satisfied: jinja2 in c:\\users\\michael\\appdata\\local\\programs\\python\\python311\\lib\\site-packages (from spacy) (3.1.2)\n",
      "Requirement already satisfied: setuptools in c:\\users\\michael\\appdata\\local\\programs\\python\\python311\\lib\\site-packages (from spacy) (65.5.0)\n",
      "Requirement already satisfied: packaging>=20.0 in c:\\users\\michael\\appdata\\local\\programs\\python\\python311\\lib\\site-packages (from spacy) (23.2)\n",
      "Requirement already satisfied: langcodes<4.0.0,>=3.2.0 in c:\\users\\michael\\appdata\\local\\programs\\python\\python311\\lib\\site-packages (from spacy) (3.4.0)\n",
      "Requirement already satisfied: numpy>=1.19.0 in c:\\users\\michael\\appdata\\local\\programs\\python\\python311\\lib\\site-packages (from spacy) (1.24.2)\n",
      "Requirement already satisfied: language-data>=1.2 in c:\\users\\michael\\appdata\\local\\programs\\python\\python311\\lib\\site-packages (from langcodes<4.0.0,>=3.2.0->spacy) (1.2.0)\n",
      "Requirement already satisfied: annotated-types>=0.4.0 in c:\\users\\michael\\appdata\\local\\programs\\python\\python311\\lib\\site-packages (from pydantic!=1.8,!=1.8.1,<3.0.0,>=1.7.4->spacy) (0.7.0)\n",
      "Requirement already satisfied: pydantic-core==2.18.4 in c:\\users\\michael\\appdata\\local\\programs\\python\\python311\\lib\\site-packages (from pydantic!=1.8,!=1.8.1,<3.0.0,>=1.7.4->spacy) (2.18.4)\n",
      "Requirement already satisfied: typing-extensions>=4.6.1 in c:\\users\\michael\\appdata\\roaming\\python\\python311\\site-packages (from pydantic!=1.8,!=1.8.1,<3.0.0,>=1.7.4->spacy) (4.11.0)\n",
      "Requirement already satisfied: charset-normalizer<4,>=2 in c:\\users\\michael\\appdata\\local\\programs\\python\\python311\\lib\\site-packages (from requests<3.0.0,>=2.13.0->spacy) (3.1.0)\n",
      "Requirement already satisfied: idna<4,>=2.5 in c:\\users\\michael\\appdata\\local\\programs\\python\\python311\\lib\\site-packages (from requests<3.0.0,>=2.13.0->spacy) (3.4)\n",
      "Requirement already satisfied: urllib3<3,>=1.21.1 in c:\\users\\michael\\appdata\\local\\programs\\python\\python311\\lib\\site-packages (from requests<3.0.0,>=2.13.0->spacy) (2.0.3)\n",
      "Requirement already satisfied: certifi>=2017.4.17 in c:\\users\\michael\\appdata\\local\\programs\\python\\python311\\lib\\site-packages (from requests<3.0.0,>=2.13.0->spacy) (2023.5.7)\n",
      "Requirement already satisfied: blis<0.8.0,>=0.7.8 in c:\\users\\michael\\appdata\\local\\programs\\python\\python311\\lib\\site-packages (from thinc<8.3.0,>=8.2.2->spacy) (0.7.11)\n",
      "Requirement already satisfied: confection<1.0.0,>=0.0.1 in c:\\users\\michael\\appdata\\local\\programs\\python\\python311\\lib\\site-packages (from thinc<8.3.0,>=8.2.2->spacy) (0.1.5)\n",
      "Requirement already satisfied: colorama in c:\\users\\michael\\appdata\\local\\programs\\python\\python311\\lib\\site-packages (from tqdm<5.0.0,>=4.38.0->spacy) (0.4.6)\n",
      "Requirement already satisfied: click>=8.0.0 in c:\\users\\michael\\appdata\\local\\programs\\python\\python311\\lib\\site-packages (from typer<1.0.0,>=0.3.0->spacy) (8.1.3)\n",
      "Requirement already satisfied: shellingham>=1.3.0 in c:\\users\\michael\\appdata\\local\\programs\\python\\python311\\lib\\site-packages (from typer<1.0.0,>=0.3.0->spacy) (1.5.4)\n",
      "Requirement already satisfied: rich>=10.11.0 in c:\\users\\michael\\appdata\\local\\programs\\python\\python311\\lib\\site-packages (from typer<1.0.0,>=0.3.0->spacy) (13.7.1)\n",
      "Requirement already satisfied: cloudpathlib<1.0.0,>=0.7.0 in c:\\users\\michael\\appdata\\local\\programs\\python\\python311\\lib\\site-packages (from weasel<0.5.0,>=0.1.0->spacy) (0.18.1)\n",
      "Requirement already satisfied: smart-open<8.0.0,>=5.2.1 in c:\\users\\michael\\appdata\\local\\programs\\python\\python311\\lib\\site-packages (from weasel<0.5.0,>=0.1.0->spacy) (7.0.4)\n",
      "Requirement already satisfied: MarkupSafe>=2.0 in c:\\users\\michael\\appdata\\local\\programs\\python\\python311\\lib\\site-packages (from jinja2->spacy) (2.1.3)\n",
      "Requirement already satisfied: marisa-trie>=0.7.7 in c:\\users\\michael\\appdata\\local\\programs\\python\\python311\\lib\\site-packages (from language-data>=1.2->langcodes<4.0.0,>=3.2.0->spacy) (1.2.0)\n",
      "Requirement already satisfied: markdown-it-py>=2.2.0 in c:\\users\\michael\\appdata\\local\\programs\\python\\python311\\lib\\site-packages (from rich>=10.11.0->typer<1.0.0,>=0.3.0->spacy) (3.0.0)\n",
      "Requirement already satisfied: pygments<3.0.0,>=2.13.0 in c:\\users\\michael\\appdata\\roaming\\python\\python311\\site-packages (from rich>=10.11.0->typer<1.0.0,>=0.3.0->spacy) (2.18.0)\n",
      "Requirement already satisfied: wrapt in c:\\users\\michael\\appdata\\local\\programs\\python\\python311\\lib\\site-packages (from smart-open<8.0.0,>=5.2.1->weasel<0.5.0,>=0.1.0->spacy) (1.16.0)\n",
      "Requirement already satisfied: mdurl~=0.1 in c:\\users\\michael\\appdata\\local\\programs\\python\\python311\\lib\\site-packages (from markdown-it-py>=2.2.0->rich>=10.11.0->typer<1.0.0,>=0.3.0->spacy) (0.1.2)\n"
     ]
    },
    {
     "name": "stderr",
     "output_type": "stream",
     "text": [
      "\n",
      "[notice] A new release of pip is available: 23.3.2 -> 24.0\n",
      "[notice] To update, run: python.exe -m pip install --upgrade pip\n"
     ]
    }
   ],
   "source": [
    "# You only need to execute this cell if you are using Google Golab.\n",
    "# If you use GitHub Codespaces, everything is already installed.\n",
    "!pip3 install tira ir-datasets python-terrier\n",
    "!pip3 install spacy"
   ]
  },
  {
   "cell_type": "code",
   "execution_count": 3,
   "metadata": {},
   "outputs": [
    {
     "name": "stderr",
     "output_type": "stream",
     "text": [
      "c:\\Users\\Michael\\AppData\\Local\\Programs\\Python\\Python311\\Lib\\site-packages\\tqdm\\auto.py:21: TqdmWarning: IProgress not found. Please update jupyter and ipywidgets. See https://ipywidgets.readthedocs.io/en/stable/user_install.html\n",
      "  from .autonotebook import tqdm as notebook_tqdm\n"
     ]
    }
   ],
   "source": [
    "# Imports\n",
    "from tira.third_party_integrations import ensure_pyterrier_is_loaded, persist_and_normalize_run\n",
    "from tira.rest_api_client import Client\n",
    "import pyterrier as pt\n"
   ]
  },
  {
   "cell_type": "code",
   "execution_count": 4,
   "metadata": {},
   "outputs": [
    {
     "name": "stderr",
     "output_type": "stream",
     "text": [
      "PyTerrier 0.10.1 has loaded Terrier 5.7 (built by craigm on 2022-11-10 18:30) and terrier-helper 0.0.7\n",
      "\n"
     ]
    }
   ],
   "source": [
    "# Create a REST client to the TIRA platform for retrieving the pre-indexed data.\n",
    "ensure_pyterrier_is_loaded()\n",
    "tira = Client()"
   ]
  },
  {
   "cell_type": "markdown",
   "metadata": {},
   "source": [
    "### Step 2: Load the Dataset and the Index\n",
    "\n",
    "The type of the index object that we load is `<class 'jnius.reflect.org.terrier.structures.Index'>`, in fact a [Java class](http://terrier.org/docs/v3.6/javadoc/org/terrier/structures/Index.html) wrapped into Python. However, you do not need to worry about this: at this point, we will simply use the provided Index object to run procedures defined in Python."
   ]
  },
  {
   "cell_type": "code",
   "execution_count": 24,
   "metadata": {},
   "outputs": [
    {
     "name": "stdout",
     "output_type": "stream",
     "text": [
      "IRDSDataset('ir-lab-sose-2024/ir-acl-anthology-20240504-training')\n",
      "{'qid': '2', 'query': 'machine learning language identification', 'original_query': {'query_id': '2', 'title': 'machine learning language identification', 'description': 'What papers are about machine learning for language identification?', 'narrative': 'Relevant papers include research on methods of machine learning for language identification or how to improve those methods. Papers that focus on other methods for language identification or the usaged of machine learning not for language identification are not relevant.'}, 'entities': [{'begin': 17, 'end': 40, 'mention': 'language identification', 'url': 'https://en.wikipedia.org/wiki/Language_identification', 'score': 1.0}, {'begin': 0, 'end': 16, 'mention': 'machine learning', 'url': 'https://en.wikipedia.org/wiki/Machine_learning', 'score': 0.9745664739884391}, {'begin': 8, 'end': 16, 'mention': 'learning', 'url': 'https://en.wikipedia.org/wiki/Learning', 'score': 0.8932038834951451}, {'begin': 0, 'end': 7, 'mention': 'machine', 'url': 'https://en.wikipedia.org/wiki/machine', 'score': 0.597355769230769}, {'begin': 26, 'end': 40, 'mention': 'identification', 'url': 'https://en.wikipedia.org/wiki/Identification_(psychology)', 'score': 0.18333333333333302}, {'begin': 26, 'end': 40, 'mention': 'identification', 'url': 'https://en.wikipedia.org/wiki/Identity_document', 'score': 0.12083333333333302}, {'begin': 26, 'end': 40, 'mention': 'identification', 'url': 'https://en.wikipedia.org/wiki/Identification_(information)', 'score': 0.07916666666666601}, {'begin': 0, 'end': 7, 'mention': 'machine', 'url': 'https://en.wikipedia.org/wiki/Political_machine', 'score': 0.048076923076923}, {'begin': 0, 'end': 7, 'mention': 'machine', 'url': 'https://en.wikipedia.org/wiki/Machine_(producer)', 'score': 0.042067307692307}, {'begin': 26, 'end': 40, 'mention': 'identification', 'url': 'https://en.wikipedia.org/wiki/Forensic_identification', 'score': 0.041666666666666005}, {'begin': 26, 'end': 40, 'mention': 'identification', 'url': 'https://en.wikipedia.org/wiki/Identification_(biology)', 'score': 0.0375}, {'begin': 0, 'end': 7, 'mention': 'machine', 'url': 'https://en.wikipedia.org/wiki/Machine_(2017_film)', 'score': 0.033653846153846}, {'begin': 26, 'end': 40, 'mention': 'identification', 'url': 'https://en.wikipedia.org/wiki/Body_identification', 'score': 0.033333333333333}, {'begin': 0, 'end': 7, 'mention': 'machine', 'url': 'https://en.wikipedia.org/wiki/Machine_(Static-X_album)', 'score': 0.032451923076923}, {'begin': 26, 'end': 40, 'mention': 'identification', 'url': 'https://en.wikipedia.org/wiki/Station_identification', 'score': 0.025}, {'begin': 26, 'end': 40, 'mention': 'identification', 'url': 'https://en.wikipedia.org/wiki/System_identification', 'score': 0.020833333333333003}, {'begin': 26, 'end': 40, 'mention': 'identification', 'url': 'https://en.wikipedia.org/wiki/Animal_identification', 'score': 0.020833333333333003}, {'begin': 26, 'end': 40, 'mention': 'identification', 'url': 'https://en.wikipedia.org/wiki/Parameter_identification_problem', 'score': 0.020833333333333003}, {'begin': 0, 'end': 7, 'mention': 'machine', 'url': 'https://en.wikipedia.org/wiki/Machine_(band)', 'score': 0.019230769230769003}, {'begin': 26, 'end': 40, 'mention': 'identification', 'url': 'https://en.wikipedia.org/wiki/Identifiability', 'score': 0.016666666666666}, {'begin': 0, 'end': 7, 'mention': 'machine', 'url': 'https://en.wikipedia.org/wiki/Machine_(Imagine_Dragons_song)', 'score': 0.015625}, {'begin': 26, 'end': 40, 'mention': 'identification', 'url': 'https://en.wikipedia.org/wiki/Eyewitness_identification', 'score': 0.0125}, {'begin': 26, 'end': 40, 'mention': 'identification', 'url': 'https://en.wikipedia.org/wiki/Organizational_identification', 'score': 0.0125}, {'begin': 0, 'end': 7, 'mention': 'machine', 'url': 'https://en.wikipedia.org/wiki/Machine_(EP)', 'score': 0.010817307692307002}, {'begin': 0, 'end': 7, 'mention': 'machine', 'url': 'https://en.wikipedia.org/wiki/Machine_(Crack_the_Sky_album)', 'score': 0.008413461538461}, {'begin': 26, 'end': 40, 'mention': 'identification', 'url': 'https://en.wikipedia.org/wiki/Identification_friend_or_foe', 'score': 0.008333333333333}, {'begin': 26, 'end': 40, 'mention': 'identification', 'url': 'https://en.wikipedia.org/wiki/Identification_(literature)', 'score': 0.008333333333333}, {'begin': 0, 'end': 7, 'mention': 'machine', 'url': 'https://en.wikipedia.org/wiki/Machine_(2006_film)', 'score': 0.0072115384615380005}, {'begin': 0, 'end': 7, 'mention': 'machine', 'url': 'https://en.wikipedia.org/wiki/Machine_(patent)', 'score': 0.004807692307692}, {'begin': 26, 'end': 40, 'mention': 'identification', 'url': 'https://en.wikipedia.org/wiki/Party_identification', 'score': 0.0041666666666660005}, {'begin': 26, 'end': 40, 'mention': 'identification', 'url': 'https://en.wikipedia.org/wiki/Gender_identity', 'score': 0.0041666666666660005}, {'begin': 0, 'end': 7, 'mention': 'machine', 'url': 'https://en.wikipedia.org/wiki/Machine_(novel)', 'score': 0.002403846153846}, {'begin': 0, 'end': 7, 'mention': 'machine', 'url': 'https://en.wikipedia.org/wiki/computer', 'score': 0.002403846153846}, {'begin': 0, 'end': 7, 'mention': 'machine', 'url': 'https://en.wikipedia.org/wiki/Machine_(Higdon)', 'score': 0.002403846153846}, {'begin': 0, 'end': 7, 'mention': 'machine', 'url': 'https://en.wikipedia.org/wiki/Turing_machine', 'score': 0.002403846153846}, {'begin': 0, 'end': 7, 'mention': 'machine', 'url': 'https://en.wikipedia.org/wiki/Person_of_Interest_(TV_series)#The_Machine', 'score': 0.001201923076923}, {'begin': 0, 'end': 7, 'mention': 'machine', 'url': 'https://en.wikipedia.org/wiki/Abstract_machine', 'score': 0.001201923076923}]}\n",
      "{'qid': '1', 'query': 'retrieval system improving effectiveness', 'original_query': {'query_id': '1', 'title': 'retrieval system improving effectiveness', 'description': 'What papers focus on improving the effectiveness of a retrieval system?', 'narrative': 'Relevant papers include research on what makes a retrieval system effective and what improves the effectiveness of a retrieval system. Papers that focus on improving something else or improving the effectiveness of a system that is not a retrieval system are not relevant.'}, 'entities': [{'begin': 27, 'end': 40, 'mention': 'effectiveness', 'url': 'https://en.wikipedia.org/wiki/Effectiveness', 'score': 0.8193548387096771}, {'begin': 0, 'end': 9, 'mention': 'retrieval', 'url': 'https://en.wikipedia.org/wiki/recall_(memory)', 'score': 0.46212121212121204}, {'begin': 0, 'end': 9, 'mention': 'retrieval', 'url': 'https://en.wikipedia.org/wiki/Information_retrieval', 'score': 0.204545454545454}, {'begin': 0, 'end': 9, 'mention': 'retrieval', 'url': 'https://en.wikipedia.org/wiki/Retrieval', 'score': 0.09848484848484801}, {'begin': 0, 'end': 9, 'mention': 'retrieval', 'url': 'https://en.wikipedia.org/wiki/Retrieval_(film)', 'score': 0.07575757575757501}, {'begin': 0, 'end': 9, 'mention': 'retrieval', 'url': 'https://en.wikipedia.org/wiki/Data_retrieval', 'score': 0.045454545454545005}, {'begin': 0, 'end': 9, 'mention': 'retrieval', 'url': 'https://en.wikipedia.org/wiki/Knowledge_retrieval', 'score': 0.015151515151515001}, {'begin': 0, 'end': 9, 'mention': 'retrieval', 'url': 'https://en.wikipedia.org/wiki/Document_retrieval', 'score': 0.007575757575757001}]}\n",
      "33\n",
      "35\n"
     ]
    }
   ],
   "source": [
    "# The dataset: the union of the IR Anthology and the ACL Anthology\n",
    "# This line creates an IRDSDataset object and registers it under the name provided as an argument.\n",
    "pt_dataset = pt.get_dataset('irds:ir-lab-sose-2024/ir-acl-anthology-20240504-training')\n",
    "print(pt_dataset)\n",
    "topics = pt_dataset.get_topics(variant='title')\n",
    "\n",
    "query_entity_linking = tira.pt.transform_queries('ir-benchmarks/marcel-gohsen/entity-linking', pt_dataset)\n",
    "print(query_entity_linking(topics).iloc[1].to_dict())\n",
    "print(query_entity_linking(topics).iloc[0].to_dict())\n",
    "\n",
    "lowEntity = []\n",
    "highEntity = []\n",
    "linked_queries = query_entity_linking(topics)\n",
    "\n",
    "for i in range(len(linked_queries)):\n",
    "    entities = linked_queries.iloc[i].to_dict().get('entities')\n",
    "    if entities is not None and len(entities) < 17:\n",
    "        lowEntity.append(entities)\n",
    "    elif entities is not None:\n",
    "        highEntity.append(entities)\n",
    "        \n",
    "print(len(lowEntity))\n",
    "print(len(highEntity))\n",
    "\n",
    "index = tira.pt.index('ir-lab-sose-2024/tira-ir-starter/Index (tira-ir-starter-pyterrier)', pt_dataset)\n",
    "bm25 = pt.BatchRetrieve(index, wmodel=\"BM25\")\n",
    "bm25QE = bm25 >> query_entity_linking # Teste mit \"<<\" Operator und der Python 'main.py' Datei wird eine manuelle Methode probiert."
   ]
  },
  {
   "cell_type": "markdown",
   "metadata": {},
   "source": [
    "### Step 3: Define the Retrieval Pipeline\n",
    "\n",
    "We will define a BM25 retrieval pipeline as baseline. For details, see:\n",
    "\n",
    "- [https://pyterrier.readthedocs.io](https://pyterrier.readthedocs.io)\n",
    "- [https://github.com/terrier-org/ecir2021tutorial](https://github.com/terrier-org/ecir2021tutorial)"
   ]
  },
  {
   "cell_type": "code",
   "execution_count": 6,
   "metadata": {},
   "outputs": [
    {
     "name": "stdout",
     "output_type": "stream",
     "text": [
      "There are multiple query fields available: ('text', 'title', 'query', 'description', 'narrative'). To use with pyterrier, provide variant or modify dataframe to add query column.\n"
     ]
    },
    {
     "data": {
      "text/html": [
       "<div>\n",
       "<style scoped>\n",
       "    .dataframe tbody tr th:only-of-type {\n",
       "        vertical-align: middle;\n",
       "    }\n",
       "\n",
       "    .dataframe tbody tr th {\n",
       "        vertical-align: top;\n",
       "    }\n",
       "\n",
       "    .dataframe thead th {\n",
       "        text-align: right;\n",
       "    }\n",
       "</style>\n",
       "<table border=\"1\" class=\"dataframe\">\n",
       "  <thead>\n",
       "    <tr style=\"text-align: right;\">\n",
       "      <th></th>\n",
       "      <th>name</th>\n",
       "      <th>ndcg_cut.10</th>\n",
       "      <th>recip_rank</th>\n",
       "      <th>recall_1000</th>\n",
       "    </tr>\n",
       "  </thead>\n",
       "  <tbody>\n",
       "    <tr>\n",
       "      <th>0</th>\n",
       "      <td>BM25</td>\n",
       "      <td>0.374041</td>\n",
       "      <td>0.579877</td>\n",
       "      <td>0.825376</td>\n",
       "    </tr>\n",
       "  </tbody>\n",
       "</table>\n",
       "</div>"
      ],
      "text/plain": [
       "   name  ndcg_cut.10  recip_rank  recall_1000\n",
       "0  BM25     0.374041    0.579877     0.825376"
      ]
     },
     "execution_count": 6,
     "metadata": {},
     "output_type": "execute_result"
    }
   ],
   "source": [
    "# Experiment ohne Query Expansion\n",
    "\n",
    "pt.Experiment(\n",
    "    [bm25],\n",
    "    pt_dataset.get_topics(),\n",
    "    pt_dataset.get_qrels(),\n",
    "    [\"ndcg_cut.10\", \"recip_rank\", \"recall_1000\"],\n",
    "    names=[\"BM25\"]\n",
    ")"
   ]
  },
  {
   "cell_type": "code",
   "execution_count": 7,
   "metadata": {},
   "outputs": [
    {
     "name": "stdout",
     "output_type": "stream",
     "text": [
      "There are multiple query fields available: ('text', 'title', 'query', 'description', 'narrative'). To use with pyterrier, provide variant or modify dataframe to add query column.\n"
     ]
    },
    {
     "data": {
      "text/html": [
       "<div>\n",
       "<style scoped>\n",
       "    .dataframe tbody tr th:only-of-type {\n",
       "        vertical-align: middle;\n",
       "    }\n",
       "\n",
       "    .dataframe tbody tr th {\n",
       "        vertical-align: top;\n",
       "    }\n",
       "\n",
       "    .dataframe thead th {\n",
       "        text-align: right;\n",
       "    }\n",
       "</style>\n",
       "<table border=\"1\" class=\"dataframe\">\n",
       "  <thead>\n",
       "    <tr style=\"text-align: right;\">\n",
       "      <th></th>\n",
       "      <th>name</th>\n",
       "      <th>ndcg_cut.10</th>\n",
       "      <th>recip_rank</th>\n",
       "      <th>recall_1000</th>\n",
       "    </tr>\n",
       "  </thead>\n",
       "  <tbody>\n",
       "    <tr>\n",
       "      <th>0</th>\n",
       "      <td>BM25</td>\n",
       "      <td>0.374041</td>\n",
       "      <td>0.579877</td>\n",
       "      <td>0.825376</td>\n",
       "    </tr>\n",
       "  </tbody>\n",
       "</table>\n",
       "</div>"
      ],
      "text/plain": [
       "   name  ndcg_cut.10  recip_rank  recall_1000\n",
       "0  BM25     0.374041    0.579877     0.825376"
      ]
     },
     "execution_count": 7,
     "metadata": {},
     "output_type": "execute_result"
    }
   ],
   "source": [
    "# Experiment mit Query Expansion\n",
    "\n",
    "pt.Experiment(\n",
    "    [bm25QE],\n",
    "    pt_dataset.get_topics(),\n",
    "    pt_dataset.get_qrels(),\n",
    "    [\"ndcg_cut.10\", \"recip_rank\", \"recall_1000\"],\n",
    "    names=[\"BM25\"]\n",
    ")"
   ]
  },
  {
   "cell_type": "markdown",
   "metadata": {},
   "source": [
    "### Step 4: Create the Run\n"
   ]
  },
  {
   "cell_type": "code",
   "execution_count": 8,
   "metadata": {},
   "outputs": [
    {
     "name": "stdout",
     "output_type": "stream",
     "text": [
      "First, we have a short look at the first three topics:\n"
     ]
    },
    {
     "data": {
      "text/html": [
       "<div>\n",
       "<style scoped>\n",
       "    .dataframe tbody tr th:only-of-type {\n",
       "        vertical-align: middle;\n",
       "    }\n",
       "\n",
       "    .dataframe tbody tr th {\n",
       "        vertical-align: top;\n",
       "    }\n",
       "\n",
       "    .dataframe thead th {\n",
       "        text-align: right;\n",
       "    }\n",
       "</style>\n",
       "<table border=\"1\" class=\"dataframe\">\n",
       "  <thead>\n",
       "    <tr style=\"text-align: right;\">\n",
       "      <th></th>\n",
       "      <th>qid</th>\n",
       "      <th>query</th>\n",
       "    </tr>\n",
       "  </thead>\n",
       "  <tbody>\n",
       "    <tr>\n",
       "      <th>0</th>\n",
       "      <td>1</td>\n",
       "      <td>retrieval system improving effectiveness</td>\n",
       "    </tr>\n",
       "    <tr>\n",
       "      <th>1</th>\n",
       "      <td>2</td>\n",
       "      <td>machine learning language identification</td>\n",
       "    </tr>\n",
       "    <tr>\n",
       "      <th>2</th>\n",
       "      <td>3</td>\n",
       "      <td>social media detect self harm</td>\n",
       "    </tr>\n",
       "  </tbody>\n",
       "</table>\n",
       "</div>"
      ],
      "text/plain": [
       "  qid                                     query\n",
       "0   1  retrieval system improving effectiveness\n",
       "1   2  machine learning language identification\n",
       "2   3             social media detect self harm"
      ]
     },
     "execution_count": 8,
     "metadata": {},
     "output_type": "execute_result"
    }
   ],
   "source": [
    "print('First, we have a short look at the first three topics:')\n",
    "\n",
    "pt_dataset.get_topics('text').head(3)"
   ]
  },
  {
   "cell_type": "code",
   "execution_count": 9,
   "metadata": {},
   "outputs": [
    {
     "name": "stdout",
     "output_type": "stream",
     "text": [
      "Now we do the retrieval...\n",
      "Done. Here are the first 10 entries of the run\n"
     ]
    },
    {
     "data": {
      "text/html": [
       "<div>\n",
       "<style scoped>\n",
       "    .dataframe tbody tr th:only-of-type {\n",
       "        vertical-align: middle;\n",
       "    }\n",
       "\n",
       "    .dataframe tbody tr th {\n",
       "        vertical-align: top;\n",
       "    }\n",
       "\n",
       "    .dataframe thead th {\n",
       "        text-align: right;\n",
       "    }\n",
       "</style>\n",
       "<table border=\"1\" class=\"dataframe\">\n",
       "  <thead>\n",
       "    <tr style=\"text-align: right;\">\n",
       "      <th></th>\n",
       "      <th>qid</th>\n",
       "      <th>docid</th>\n",
       "      <th>docno</th>\n",
       "      <th>rank</th>\n",
       "      <th>score</th>\n",
       "      <th>query</th>\n",
       "    </tr>\n",
       "  </thead>\n",
       "  <tbody>\n",
       "    <tr>\n",
       "      <th>0</th>\n",
       "      <td>1</td>\n",
       "      <td>94858</td>\n",
       "      <td>2004.cikm_conference-2004.47</td>\n",
       "      <td>0</td>\n",
       "      <td>15.681777</td>\n",
       "      <td>retrieval system improving effectiveness</td>\n",
       "    </tr>\n",
       "    <tr>\n",
       "      <th>1</th>\n",
       "      <td>1</td>\n",
       "      <td>125137</td>\n",
       "      <td>1989.ipm_journal-ir0volumeA25A4.2</td>\n",
       "      <td>1</td>\n",
       "      <td>15.047380</td>\n",
       "      <td>retrieval system improving effectiveness</td>\n",
       "    </tr>\n",
       "    <tr>\n",
       "      <th>2</th>\n",
       "      <td>1</td>\n",
       "      <td>125817</td>\n",
       "      <td>2005.ipm_journal-ir0volumeA41A5.11</td>\n",
       "      <td>2</td>\n",
       "      <td>14.144223</td>\n",
       "      <td>retrieval system improving effectiveness</td>\n",
       "    </tr>\n",
       "    <tr>\n",
       "      <th>3</th>\n",
       "      <td>1</td>\n",
       "      <td>5868</td>\n",
       "      <td>W05-0704</td>\n",
       "      <td>3</td>\n",
       "      <td>14.025748</td>\n",
       "      <td>retrieval system improving effectiveness</td>\n",
       "    </tr>\n",
       "    <tr>\n",
       "      <th>4</th>\n",
       "      <td>1</td>\n",
       "      <td>84876</td>\n",
       "      <td>2016.ntcir_conference-2016.90</td>\n",
       "      <td>4</td>\n",
       "      <td>13.947994</td>\n",
       "      <td>retrieval system improving effectiveness</td>\n",
       "    </tr>\n",
       "    <tr>\n",
       "      <th>5</th>\n",
       "      <td>1</td>\n",
       "      <td>82472</td>\n",
       "      <td>1998.sigirconf_conference-98.15</td>\n",
       "      <td>5</td>\n",
       "      <td>13.901647</td>\n",
       "      <td>retrieval system improving effectiveness</td>\n",
       "    </tr>\n",
       "    <tr>\n",
       "      <th>6</th>\n",
       "      <td>1</td>\n",
       "      <td>94415</td>\n",
       "      <td>2008.cikm_conference-2008.183</td>\n",
       "      <td>6</td>\n",
       "      <td>13.808208</td>\n",
       "      <td>retrieval system improving effectiveness</td>\n",
       "    </tr>\n",
       "    <tr>\n",
       "      <th>7</th>\n",
       "      <td>1</td>\n",
       "      <td>17496</td>\n",
       "      <td>O01-2005</td>\n",
       "      <td>7</td>\n",
       "      <td>13.749449</td>\n",
       "      <td>retrieval system improving effectiveness</td>\n",
       "    </tr>\n",
       "    <tr>\n",
       "      <th>8</th>\n",
       "      <td>1</td>\n",
       "      <td>82490</td>\n",
       "      <td>1998.sigirconf_conference-98.33</td>\n",
       "      <td>8</td>\n",
       "      <td>13.735541</td>\n",
       "      <td>retrieval system improving effectiveness</td>\n",
       "    </tr>\n",
       "    <tr>\n",
       "      <th>9</th>\n",
       "      <td>1</td>\n",
       "      <td>124801</td>\n",
       "      <td>2006.ipm_journal-ir0volumeA42A3.2</td>\n",
       "      <td>9</td>\n",
       "      <td>13.569263</td>\n",
       "      <td>retrieval system improving effectiveness</td>\n",
       "    </tr>\n",
       "  </tbody>\n",
       "</table>\n",
       "</div>"
      ],
      "text/plain": [
       "  qid   docid                               docno  rank      score  \\\n",
       "0   1   94858        2004.cikm_conference-2004.47     0  15.681777   \n",
       "1   1  125137   1989.ipm_journal-ir0volumeA25A4.2     1  15.047380   \n",
       "2   1  125817  2005.ipm_journal-ir0volumeA41A5.11     2  14.144223   \n",
       "3   1    5868                            W05-0704     3  14.025748   \n",
       "4   1   84876       2016.ntcir_conference-2016.90     4  13.947994   \n",
       "5   1   82472     1998.sigirconf_conference-98.15     5  13.901647   \n",
       "6   1   94415       2008.cikm_conference-2008.183     6  13.808208   \n",
       "7   1   17496                            O01-2005     7  13.749449   \n",
       "8   1   82490     1998.sigirconf_conference-98.33     8  13.735541   \n",
       "9   1  124801   2006.ipm_journal-ir0volumeA42A3.2     9  13.569263   \n",
       "\n",
       "                                      query  \n",
       "0  retrieval system improving effectiveness  \n",
       "1  retrieval system improving effectiveness  \n",
       "2  retrieval system improving effectiveness  \n",
       "3  retrieval system improving effectiveness  \n",
       "4  retrieval system improving effectiveness  \n",
       "5  retrieval system improving effectiveness  \n",
       "6  retrieval system improving effectiveness  \n",
       "7  retrieval system improving effectiveness  \n",
       "8  retrieval system improving effectiveness  \n",
       "9  retrieval system improving effectiveness  "
      ]
     },
     "execution_count": 9,
     "metadata": {},
     "output_type": "execute_result"
    }
   ],
   "source": [
    "print('Now we do the retrieval...')\n",
    "run = bm25(pt_dataset.get_topics('text'))\n",
    "\n",
    "print('Done. Here are the first 10 entries of the run')\n",
    "run.head(10)"
   ]
  },
  {
   "cell_type": "markdown",
   "metadata": {},
   "source": [
    "### Step 5: Persist the run file for subsequent evaluations\n",
    "\n",
    "The output of a prototypical retrieval system is a run file. This run file can later (optimally in a different notebook) be statistically evaluated."
   ]
  },
  {
   "cell_type": "code",
   "execution_count": 10,
   "metadata": {},
   "outputs": [],
   "source": [
    "# Auskommentiert, da main.py testen wollte wie die run.txt aussieht\n",
    "#persist_and_normalize_run(run, system_name='bm25-baseline', default_output='../runs')"
   ]
  }
 ],
 "metadata": {
  "kernelspec": {
   "display_name": "Python 3",
   "language": "python",
   "name": "python3"
  },
  "language_info": {
   "codemirror_mode": {
    "name": "ipython",
    "version": 3
   },
   "file_extension": ".py",
   "mimetype": "text/x-python",
   "name": "python",
   "nbconvert_exporter": "python",
   "pygments_lexer": "ipython3",
   "version": "3.11.4"
  }
 },
 "nbformat": 4,
 "nbformat_minor": 2
}
