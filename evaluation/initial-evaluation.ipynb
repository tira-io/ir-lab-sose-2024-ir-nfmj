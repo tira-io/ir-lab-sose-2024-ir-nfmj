{
 "cells": [
  {
   "cell_type": "code",
   "execution_count": 1,
   "metadata": {},
   "outputs": [],
   "source": [
    "# Imports\n",
    "from tira.third_party_integrations import ensure_pyterrier_is_loaded, persist_and_normalize_run\n",
    "from tira.rest_api_client import Client\n",
    "import pyterrier as pt"
   ]
  },
  {
   "cell_type": "code",
   "execution_count": 2,
   "metadata": {},
   "outputs": [
    {
     "name": "stderr",
     "output_type": "stream",
     "text": [
      "PyTerrier 0.10.0 has loaded Terrier 5.8 (built by craigm on 2023-11-01 18:05) and terrier-helper 0.0.8\n",
      "\n",
      "No etc/terrier.properties, using terrier.default.properties for bootstrap configuration.\n"
     ]
    }
   ],
   "source": [
    "# Create a REST client to the TIRA platform for retrieving the pre-indexed data.\n",
    "ensure_pyterrier_is_loaded()\n",
    "tira = Client()"
   ]
  },
  {
   "cell_type": "code",
   "execution_count": 3,
   "metadata": {},
   "outputs": [],
   "source": [
    "# The dataset: the union of the IR Anthology and the ACL Anthology\n",
    "# This line creates an IRDSDataset object and registers it under the name provided as an argument.\n",
    "pt_dataset = pt.get_dataset('irds:ir-lab-sose-2024/ir-acl-anthology-20240504-training')\n"
   ]
  },
  {
   "cell_type": "code",
   "execution_count": 4,
   "metadata": {},
   "outputs": [
    {
     "name": "stdout",
     "output_type": "stream",
     "text": [
      "There are multiple query fields available: ('text', 'title', 'query', 'description', 'narrative'). To use with pyterrier, provide variant or modify dataframe to add query column.\n"
     ]
    },
    {
     "data": {
      "text/html": [
       "<div>\n",
       "<style scoped>\n",
       "    .dataframe tbody tr th:only-of-type {\n",
       "        vertical-align: middle;\n",
       "    }\n",
       "\n",
       "    .dataframe tbody tr th {\n",
       "        vertical-align: top;\n",
       "    }\n",
       "\n",
       "    .dataframe thead th {\n",
       "        text-align: right;\n",
       "    }\n",
       "</style>\n",
       "<table border=\"1\" class=\"dataframe\">\n",
       "  <thead>\n",
       "    <tr style=\"text-align: right;\">\n",
       "      <th></th>\n",
       "      <th>name</th>\n",
       "      <th>ndcg_cut.10</th>\n",
       "      <th>recip_rank</th>\n",
       "      <th>recall_1000</th>\n",
       "      <th>P@5</th>\n",
       "      <th>P@10</th>\n",
       "      <th>P@15</th>\n",
       "      <th>P@20</th>\n",
       "      <th>P@30</th>\n",
       "      <th>P@100</th>\n",
       "      <th>P@200</th>\n",
       "      <th>P@500</th>\n",
       "      <th>P@1000</th>\n",
       "    </tr>\n",
       "  </thead>\n",
       "  <tbody>\n",
       "    <tr>\n",
       "      <th>0</th>\n",
       "      <td>BM25</td>\n",
       "      <td>0.374041</td>\n",
       "      <td>0.579877</td>\n",
       "      <td>0.825376</td>\n",
       "      <td>0.376471</td>\n",
       "      <td>0.332353</td>\n",
       "      <td>0.311765</td>\n",
       "      <td>0.270588</td>\n",
       "      <td>0.219608</td>\n",
       "      <td>0.108382</td>\n",
       "      <td>0.063676</td>\n",
       "      <td>0.029941</td>\n",
       "      <td>0.016191</td>\n",
       "    </tr>\n",
       "    <tr>\n",
       "      <th>1</th>\n",
       "      <td>BM25QE</td>\n",
       "      <td>0.241221</td>\n",
       "      <td>0.385710</td>\n",
       "      <td>0.825376</td>\n",
       "      <td>0.235294</td>\n",
       "      <td>0.214706</td>\n",
       "      <td>0.192157</td>\n",
       "      <td>0.167647</td>\n",
       "      <td>0.137255</td>\n",
       "      <td>0.078971</td>\n",
       "      <td>0.051250</td>\n",
       "      <td>0.027294</td>\n",
       "      <td>0.016191</td>\n",
       "    </tr>\n",
       "  </tbody>\n",
       "</table>\n",
       "</div>"
      ],
      "text/plain": [
       "     name  ndcg_cut.10  recip_rank  recall_1000       P@5      P@10      P@15  \\\n",
       "0    BM25     0.374041    0.579877     0.825376  0.376471  0.332353  0.311765   \n",
       "1  BM25QE     0.241221    0.385710     0.825376  0.235294  0.214706  0.192157   \n",
       "\n",
       "       P@20      P@30     P@100     P@200     P@500    P@1000  \n",
       "0  0.270588  0.219608  0.108382  0.063676  0.029941  0.016191  \n",
       "1  0.167647  0.137255  0.078971  0.051250  0.027294  0.016191  "
      ]
     },
     "execution_count": 4,
     "metadata": {},
     "output_type": "execute_result"
    }
   ],
   "source": [
    "# run file von Basic BM25 ohne QE\n",
    "bm25 = pt.io.read_results('../runs/runBasicQuery.txt')\n",
    "bm25QE = pt.io.read_results('../runs/run.txt')\n",
    "\n",
    "pt.Experiment(\n",
    "    [bm25, bm25QE],\n",
    "    pt_dataset.get_topics(),\n",
    "    pt_dataset.get_qrels(),\n",
    "    [\"ndcg_cut.10\", \"recip_rank\", \"recall_1000\", \"P\"],\n",
    "    names=[\"BM25\", \"BM25QE\"]\n",
    ")"
   ]
  }
 ],
 "metadata": {
  "kernelspec": {
   "display_name": "Python 3",
   "language": "python",
   "name": "python3"
  },
  "language_info": {
   "codemirror_mode": {
    "name": "ipython",
    "version": 3
   },
   "file_extension": ".py",
   "mimetype": "text/x-python",
   "name": "python",
   "nbconvert_exporter": "python",
   "pygments_lexer": "ipython3",
   "version": "3.10.12"
  }
 },
 "nbformat": 4,
 "nbformat_minor": 2
}
