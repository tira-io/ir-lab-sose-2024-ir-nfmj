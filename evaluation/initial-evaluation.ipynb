{
 "cells": [
  {
   "cell_type": "code",
   "execution_count": 6,
   "metadata": {},
   "outputs": [],
   "source": [
    "# Imports\n",
    "from tira.third_party_integrations import ensure_pyterrier_is_loaded, persist_and_normalize_run\n",
    "from tira.rest_api_client import Client\n",
    "import pyterrier as pt"
   ]
  },
  {
   "cell_type": "code",
   "execution_count": 7,
   "metadata": {},
   "outputs": [],
   "source": [
    "# Create a REST client to the TIRA platform for retrieving the pre-indexed data.\n",
    "ensure_pyterrier_is_loaded()\n",
    "tira = Client()"
   ]
  },
  {
   "cell_type": "code",
   "execution_count": 8,
   "metadata": {},
   "outputs": [],
   "source": [
    "# The dataset: the union of the IR Anthology and the ACL Anthology\n",
    "# This line creates an IRDSDataset object and registers it under the name provided as an argument.\n",
    "pt_dataset = pt.get_dataset('irds:ir-lab-sose-2024/ir-acl-anthology-20240504-training')\n"
   ]
  },
  {
   "cell_type": "code",
   "execution_count": 9,
   "metadata": {},
   "outputs": [
    {
     "name": "stdout",
     "output_type": "stream",
     "text": [
      "There are multiple query fields available: ('text', 'title', 'query', 'description', 'narrative'). To use with pyterrier, provide variant or modify dataframe to add query column.\n"
     ]
    },
    {
     "data": {
      "text/html": [
       "<div>\n",
       "<style scoped>\n",
       "    .dataframe tbody tr th:only-of-type {\n",
       "        vertical-align: middle;\n",
       "    }\n",
       "\n",
       "    .dataframe tbody tr th {\n",
       "        vertical-align: top;\n",
       "    }\n",
       "\n",
       "    .dataframe thead th {\n",
       "        text-align: right;\n",
       "    }\n",
       "</style>\n",
       "<table border=\"1\" class=\"dataframe\">\n",
       "  <thead>\n",
       "    <tr style=\"text-align: right;\">\n",
       "      <th></th>\n",
       "      <th>name</th>\n",
       "      <th>ndcg_cut.10</th>\n",
       "      <th>recip_rank</th>\n",
       "      <th>recall_1000</th>\n",
       "      <th>P@5</th>\n",
       "      <th>P@10</th>\n",
       "      <th>P@15</th>\n",
       "      <th>P@20</th>\n",
       "      <th>P@30</th>\n",
       "      <th>P@100</th>\n",
       "      <th>P@200</th>\n",
       "      <th>P@500</th>\n",
       "      <th>P@1000</th>\n",
       "    </tr>\n",
       "  </thead>\n",
       "  <tbody>\n",
       "    <tr>\n",
       "      <th>0</th>\n",
       "      <td>BM25</td>\n",
       "      <td>0.367383</td>\n",
       "      <td>0.582789</td>\n",
       "      <td>0.834716</td>\n",
       "      <td>0.364706</td>\n",
       "      <td>0.323529</td>\n",
       "      <td>0.305882</td>\n",
       "      <td>0.263971</td>\n",
       "      <td>0.211275</td>\n",
       "      <td>0.106912</td>\n",
       "      <td>0.063824</td>\n",
       "      <td>0.030059</td>\n",
       "      <td>0.016500</td>\n",
       "    </tr>\n",
       "    <tr>\n",
       "      <th>1</th>\n",
       "      <td>BM25QR</td>\n",
       "      <td>0.336283</td>\n",
       "      <td>0.553027</td>\n",
       "      <td>0.724920</td>\n",
       "      <td>0.326471</td>\n",
       "      <td>0.292647</td>\n",
       "      <td>0.267647</td>\n",
       "      <td>0.227941</td>\n",
       "      <td>0.186275</td>\n",
       "      <td>0.092941</td>\n",
       "      <td>0.055809</td>\n",
       "      <td>0.026324</td>\n",
       "      <td>0.014441</td>\n",
       "    </tr>\n",
       "  </tbody>\n",
       "</table>\n",
       "</div>"
      ],
      "text/plain": [
       "     name  ndcg_cut.10  recip_rank  recall_1000       P@5      P@10      P@15  \\\n",
       "0    BM25     0.367383    0.582789     0.834716  0.364706  0.323529  0.305882   \n",
       "1  BM25QR     0.336283    0.553027     0.724920  0.326471  0.292647  0.267647   \n",
       "\n",
       "       P@20      P@30     P@100     P@200     P@500    P@1000  \n",
       "0  0.263971  0.211275  0.106912  0.063824  0.030059  0.016500  \n",
       "1  0.227941  0.186275  0.092941  0.055809  0.026324  0.014441  "
      ]
     },
     "execution_count": 9,
     "metadata": {},
     "output_type": "execute_result"
    }
   ],
   "source": [
    "bm25 = pt.io.read_results('../runs/defaultRuns/run.txt')\n",
    "bm25QR = pt.io.read_results('../runs/QRRuns/run.txt')\n",
    "\n",
    "\n",
    "pt.Experiment(\n",
    "    [bm25, bm25QR],\n",
    "    pt_dataset.get_topics(),\n",
    "    pt_dataset.get_qrels(),\n",
    "    [\"ndcg_cut.10\", \"recip_rank\", \"recall_1000\", \"P\"],\n",
    "    names=[\"BM25\", \"BM25QR\"]\n",
    ")\n",
    "\n",
    "# stopwords=['a', 'an', 'the'] ,\n",
    "#0 \tBM25 \t0.356608 \t0.572054 \t0.824595 \t0.326471 \t0.320588 \t0.285294 \t0.250000 \t0.203431 \t0.100735 \t0.061250 \t0.029500 \t0.016235\n",
    "#1 \tBM25QR \t0.330551 \t0.548680 \t0.727783 \t0.300000 \t0.291176 \t0.259804 \t0.229412 \t0.186765 \t0.091618 \t0.055147 \t0.026206 \t0.014368\n",
    "#2 \tLinear \t0.352036 \t0.581671 \t0.824595 \t0.320588 \t0.311765 \t0.287255 \t0.248529 \t0.203431 \t0.100294 \t0.060809 \t0.029529 \t0.016235\n",
    "\n",
    "# Default Stopword List\n",
    "#0 \tBM25 \t0.374041 \t0.579877 \t0.825376 \t0.376471 \t0.332353 \t0.311765 \t0.270588 \t0.219608 \t0.108382 \t0.063676 \t0.029941 \t0.016191\n",
    "#1 \tBM25QR \t0.327492 \t0.512991 \t0.701300 \t0.329412 \t0.286765 \t0.266667 \t0.227941 \t0.186765 \t0.091765 \t0.053971 \t0.025176 \t0.013721\n",
    "#2 \tLinear \t0.373095 \t0.581238 \t0.825376 \t0.370588 \t0.330882 \t0.306863 \t0.269118 \t0.217647 \t0.107500 \t0.063529 \t0.029853 \t0.016191\n",
    "\n",
    "# stopwords/stopword-list.txt\n",
    "#0 \tBM25 \t0.367383 \t0.582789 \t0.834716 \t0.364706 \t0.323529 \t0.305882 \t0.263971 \t0.211275 \t0.106912 \t0.063824 \t0.030059 \t0.016500\n",
    "#1 \tBM25QR \t0.336283 \t0.553027 \t0.724920 \t0.326471 \t0.292647 \t0.267647 \t0.227941 \t0.186275 \t0.092941 \t0.055809 \t0.026324 \t0.014441\n",
    "#2 \tLinear \t0.363278 \t0.584142 \t0.834716 \t0.355882 \t0.319118 \t0.298039 \t0.259559 \t0.208333 \t0.104853 \t0.063456 \t0.029941 \t0.016500\n",
    "\n"
   ]
  }
 ],
 "metadata": {
  "kernelspec": {
   "display_name": "Python 3",
   "language": "python",
   "name": "python3"
  },
  "language_info": {
   "codemirror_mode": {
    "name": "ipython",
    "version": 3
   },
   "file_extension": ".py",
   "mimetype": "text/x-python",
   "name": "python",
   "nbconvert_exporter": "python",
   "pygments_lexer": "ipython3",
   "version": "3.10.12"
  }
 },
 "nbformat": 4,
 "nbformat_minor": 2
}
